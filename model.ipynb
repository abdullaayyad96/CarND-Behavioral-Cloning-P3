{
 "cells": [
  {
   "cell_type": "code",
   "execution_count": 1,
   "metadata": {
    "collapsed": true
   },
   "outputs": [],
   "source": [
    "#reading csv file\n",
    "#reading myData\n",
    "import zipfile\n",
    "import pandas as pd\n",
    "import numpy as np\n",
    "import math\n",
    "import matplotlib.pyplot as plt\n",
    "from sklearn.utils import shuffle\n",
    "from sklearn.model_selection import train_test_split\n",
    "\n",
    "#loading csv file from zip\n",
    "archive = zipfile.ZipFile('/home/carnd/simulation_data/allDataFinal.zip', 'r')\n",
    "csvFile = archive.open('driving_log.csv')\n",
    "\n",
    "\n",
    "lines=[] #reading csv files\n",
    "y=[] #the output for the steering angle\n",
    "X=[] #list for image output\n",
    "#reading csv file\n",
    "csvReader = pd.read_csv(csvFile, header=None)# the myData.zip file does not use headers\n",
    "correction = 0.2\n",
    "\n",
    "for line in csvReader.iterrows():\n",
    "    lines.append(line[1])\n",
    "    '''\n",
    "    center_img = archive.open('IMG/' + line[1][0].split('IMG\\\\')[-1])\n",
    "    center_img = plt.imread(center_img) \n",
    "    \n",
    "    left_img = archive.open('IMG/' + line[1][1].split('IMG\\\\')[1])\n",
    "    left_img = plt.imread(left_img)\n",
    "    \n",
    "    right_img = archive.open('IMG/' + line[1][2].split('IMG\\\\')[1])\n",
    "    right_img = plt.imread(right_img)\n",
    "    \n",
    "    #X.append(np.concatenate((center_img, left_img, right_img),axis=2)) #creating a 9 channel input to be used by the network \n",
    "    X.append(center_img)\n",
    "    y.append(float(line[1][3]))\n",
    "    \n",
    "    X.append(left_img)\n",
    "    y.append((float(line[1][3])+correction))\n",
    "    \n",
    "    X.append(right_img)\n",
    "    y.append((float(line[1][3])-correction))\n",
    "    \n",
    "img_shape = X[0].shape\n",
    "\n",
    "#convert inputs and outputs to numpy array for keras\n",
    "X_train=np.array(X)\n",
    "y_train=np.array(y)\n",
    "'''\n",
    "img_shape = plt.imread(archive.open('IMG/' + lines[0][0].split('IMG\\\\')[-1])).shape\n",
    "#train_samples, validation_samples = train_test_split(lines, test_size=0.2)"
   ]
  },
  {
   "cell_type": "code",
   "execution_count": 2,
   "metadata": {
    "collapsed": true
   },
   "outputs": [],
   "source": [
    "ranges = np.zeros(10, np.int16)\n",
    "\n",
    "for line in lines:\n",
    "    steering = line[3]\n",
    "    for i in range(0,10):\n",
    "        if(steering>(1-0.2*(i+1)) and steering<(1-0.2*i)):\n",
    "            ranges[i]= ranges[i]+1\n",
    "            break"
   ]
  },
  {
   "cell_type": "code",
   "execution_count": 3,
   "metadata": {},
   "outputs": [
    {
     "data": {
      "image/png": "[encoded data removed]",
      "text/plain": [
       "<matplotlib.figure.Figure at 0x7fdce9c785f8>"
      ]
     },
     "metadata": {},
     "output_type": "display_data"
    }
   ],
   "source": [
    "plt.bar(np.linspace(0.9,-0.9,10),ranges, 0.2)\n",
    "plt.show()"
   ]
  },
  {
   "cell_type": "code",
   "execution_count": 4,
   "metadata": {
    "collapsed": true
   },
   "outputs": [],
   "source": [
    "import random\n",
    "\n",
    "\n",
    "for i in reversed(range(len(lines))):\n",
    "    steering = float(lines[i][3])\n",
    "    if(steering>0 and steering<0.2):\n",
    "        keep_probs = random.random();\n",
    "        if(keep_probs>0.45):\n",
    "            del lines[i] \n",
    "    elif(steering>-0.2 and steering<=0):\n",
    "        keep_probs = random.random();\n",
    "        if(keep_probs>0.22):\n",
    "            del lines[i] \n",
    "    elif(steering>-0.4 and steering<=-0.2):\n",
    "        keep_probs = random.random();\n",
    "        if(keep_probs>0.8):\n",
    "            del lines[i] \n",
    "    elif(steering<-0.8 or steering>0.8):\n",
    "        for j in range(8):\n",
    "            lines.append(lines[i])\n",
    "    elif(steering<-0.6 or steering>0.6):\n",
    "        for j in range(2):\n",
    "            lines.append(lines[i])\n",
    "    elif(steering<-0.5 or steering>0.5):\n",
    "        for j in range(2):\n",
    "            lines.append(lines[i])\n",
    "            "
   ]
  },
  {
   "cell_type": "code",
   "execution_count": 5,
   "metadata": {},
   "outputs": [
    {
     "data": {
      "image/png": "[encoded data removed]",
      "text/plain": [
       "<matplotlib.figure.Figure at 0x7fdcff2e32e8>"
      ]
     },
     "metadata": {},
     "output_type": "display_data"
    }
   ],
   "source": [
    "ranges = np.zeros(10, np.int16)\n",
    "\n",
    "for line in lines:\n",
    "    steering = line[3]\n",
    "    for i in range(0,10):\n",
    "        if(steering>(1-0.2*(i+1)) and steering<(1-0.2*i)):\n",
    "            ranges[i]= ranges[i]+1\n",
    "            break\n",
    "plt.bar(np.linspace(0.9,-0.9,10),ranges, 0.2)\n",
    "plt.show()"
   ]
  },
  {
   "cell_type": "code",
   "execution_count": 6,
   "metadata": {
    "collapsed": true
   },
   "outputs": [],
   "source": [
    "lines = shuffle(lines)\n",
    "train_samples, validation_samples = train_test_split(lines, test_size=0.2)"
   ]
  },
  {
   "cell_type": "code",
   "execution_count": null,
   "metadata": {},
   "outputs": [],
   "source": [
    "print(len(train_samples), len(validation_samples))"
   ]
  },
  {
   "cell_type": "code",
   "execution_count": null,
   "metadata": {
    "collapsed": true
   },
   "outputs": [],
   "source": [
    "dir0 = 'IMG/' + lines[0][0].split('IMG')[-1]\n",
    "if dir0 in archive.namelist():\n",
    "    print('yes')\n",
    "#print(archive.namelist())"
   ]
  },
  {
   "cell_type": "code",
   "execution_count": 7,
   "metadata": {
    "collapsed": true
   },
   "outputs": [],
   "source": [
    "#generator for myData\n",
    "\n",
    "#utilizing generators for reading data\n",
    "def generator(archive_in, samples, batch_size=32, augment=False):\n",
    "    num_samples = len(samples)\n",
    "    while 1: # Loop forever so the generator never terminates\n",
    "        shuffle(samples)\n",
    "        for offset in range(0, num_samples, batch_size):\n",
    "        \n",
    "            if(augment):\n",
    "                batch_samples = samples[offset:offset+math.ceil(batch_size/2)]\n",
    "            else:\n",
    "                batch_samples = samples[offset:offset+batch_size]\n",
    "            images = []\n",
    "            angles = []\n",
    "            #loading files\n",
    "            for batch_sample in batch_samples:\n",
    "                dir1 = 'IMG/' + batch_sample[0].split('IMG\\\\')[-1]\n",
    "                dir2 = 'IMG/' + batch_sample[0].split('IMG/')[-1]\n",
    "                if dir1 in archive.namelist():\n",
    "                    name =  archive_in.open(dir1)\n",
    "                elif dir2 in archive.namelist():\n",
    "                    name =  archive_in.open(dir2)\n",
    "                center_image = plt.imread(name)\n",
    "                center_angle = float(batch_sample[3])\n",
    "                images.append(center_image)\n",
    "                angles.append(center_angle)\n",
    "                '''\n",
    "                dir1 = 'IMG/' + batch_sample[1].split('IMG\\\\')[-1]\n",
    "                dir2 = 'IMG/' + batch_sample[1].split('IMG/')[-1]\n",
    "                if dir1 in archive.namelist():\n",
    "                    name =  archive_in.open(dir1)\n",
    "                elif dir2 in archive.namelist():\n",
    "                    name =  archive_in.open(dir2)\n",
    "                left_image = plt.imread(name)\n",
    "                left_angle = float(batch_sample[3]) + correction\n",
    "                images.append(left_image)\n",
    "                angles.append(left_angle)\n",
    "                \n",
    "                dir1 = 'IMG/' + batch_sample[2].split('IMG\\\\')[-1]\n",
    "                dir2 = 'IMG/' + batch_sample[2].split('IMG/')[-1]\n",
    "                if dir1 in archive.namelist():\n",
    "                    name =  archive_in.open(dir1)\n",
    "                elif dir2 in archive.namelist():\n",
    "                    name =  archive_in.open(dir2)\n",
    "                right_image = plt.imread(name)\n",
    "                right_angle = float(batch_sample[3]) - correction\n",
    "                images.append(right_image)\n",
    "                angles.append(right_angle)\n",
    "                 ''' \n",
    "                if(augment):\n",
    "                    images.append(np.fliplr(center_image))\n",
    "                    angles.append(-center_angle)\n",
    "                    '''\n",
    "                    images.append(np.fliplr(left_image))\n",
    "                    angles.append(-left_angle)\n",
    "                \n",
    "                    images.append(np.fliplr(right_image))\n",
    "                    angles.append(-right_angle)\n",
    "                    '''\n",
    "            # trim image to only see section with road\n",
    "            X_train = np.array(images)\n",
    "            y_train = np.array(angles)\n",
    "            yield shuffle(X_train, y_train)"
   ]
  },
  {
   "cell_type": "code",
   "execution_count": null,
   "metadata": {
    "collapsed": true
   },
   "outputs": [],
   "source": [
    "#reading csv file\n",
    "#reading provided data\n",
    "import zipfile\n",
    "import pandas as pd\n",
    "import numpy as np\n",
    "import math\n",
    "import matplotlib.pyplot as plt\n",
    "from sklearn.utils import shuffle\n",
    "from sklearn.model_selection import train_test_split\n",
    "\n",
    "#loading csv file from zip\n",
    "archive = zipfile.ZipFile('/home/carnd/simulation_data/data.zip', 'r')\n",
    "csvFile = archive.open('data/driving_log.csv')\n",
    "\n",
    "\n",
    "lines=[] #reading csv files\n",
    "y=[] #the output for the steering angle\n",
    "X=[] #list for image output\n",
    "#reading csv file\n",
    "csvReader = pd.read_csv(csvFile)# the data.zip file uses headers\n",
    "correction = 0.3\n",
    "\n",
    "for line in csvReader.iterrows():\n",
    "    lines.append(line[1])\n",
    "    '''\n",
    "    center_img = archive.open('data/IMG/' + line[1][0].split('IMG/')[-1])\n",
    "    center_img = plt.imread(center_img) \n",
    "    \n",
    "    left_img = archive.open('data/IMG/' + line[1][1].split('IMG/')[1])\n",
    "    left_img = plt.imread(left_img)\n",
    "    \n",
    "    right_img = archive.open('data/IMG/' + line[1][2].split('IMG/')[1])\n",
    "    right_img = plt.imread(right_img)\n",
    "    \n",
    "    #X.append(np.concatenate((center_img, left_img, right_img),axis=2)) #creating a 9 channel input to be used by the network \n",
    "    X.append(center_img)\n",
    "    y.append(float(line[1][3]))\n",
    "    \n",
    "    \n",
    "    X.append(left_img)\n",
    "    y.append((float(line[1][3])+correction))\n",
    "    \n",
    "    X.append(right_img)\n",
    "    y.append((float(line[1][3])-correction))\n",
    "    \n",
    "    \n",
    "img_shape = X[0].shape\n",
    "\n",
    "#convert inputs and outputs to numpy array for keras\n",
    "X_train=np.array(X)\n",
    "y_train=np.array(y)\n",
    "'''\n",
    "train_samples, validation_samples = train_test_split(lines, test_size=0.2)\n",
    "img_shape = plt.imread(archive.open('data/IMG/' + lines[0][0].split('IMG/')[-1])).shape"
   ]
  },
  {
   "cell_type": "code",
   "execution_count": null,
   "metadata": {
    "collapsed": true
   },
   "outputs": [],
   "source": [
    "#utilizing generators for reading data\n",
    "def generator(archive_in, samples, batch_size=32, augment=False):\n",
    "    num_samples = len(samples)\n",
    "    while 1: # Loop forever so the generator never terminates\n",
    "        shuffle(samples)\n",
    "        for offset in range(0, num_samples, batch_size):\n",
    "            if(augment):\n",
    "                batch_samples = samples[offset:offset+math.ceil(batch_size/2)]\n",
    "            else:\n",
    "                batch_samples = samples[offset:offset+batch_size]\n",
    "\n",
    "            images = []\n",
    "            angles = []\n",
    "            #loading files\n",
    "            for batch_sample in batch_samples:\n",
    "                name =  archive_in.open('data/IMG/' + batch_sample[0].split('IMG/')[-1])\n",
    "                center_image = plt.imread(name)\n",
    "                center_angle = float(batch_sample[3])\n",
    "                images.append(center_image)\n",
    "                angles.append(center_angle)\n",
    "                \n",
    "                name =  archive_in.open('data/IMG/' + batch_sample[1].split('IMG/')[-1])\n",
    "                left_image = plt.imread(name)\n",
    "                left_angle = float(batch_sample[3]) + correction\n",
    "                images.append(left_image)\n",
    "                angles.append(left_angle)\n",
    "                \n",
    "                name =  archive_in.open('data/IMG/' + batch_sample[2].split('IMG/')[-1])\n",
    "                right_image = plt.imread(name)\n",
    "                right_angle = float(batch_sample[3]) - correction\n",
    "                images.append(right_image)\n",
    "                angles.append(right_angle)\n",
    "              \n",
    "                if(augment):\n",
    "                    images.append(np.fliplr(center_image))\n",
    "                    angles.append(-center_angle)\n",
    "                \n",
    "                    images.append(np.fliplr(left_image))\n",
    "                    angles.append(-left_angle)\n",
    "                \n",
    "                    images.append(np.fliplr(right_image))\n",
    "                    angles.append(-right_angle)\n",
    "                \n",
    "\n",
    "            # trim image to only see section with road\n",
    "            X_train = np.array(images)\n",
    "            y_train = np.array(angles)\n",
    "            yield shuffle(X_train, y_train)"
   ]
  },
  {
   "cell_type": "code",
   "execution_count": null,
   "metadata": {
    "collapsed": true
   },
   "outputs": [],
   "source": [
    "#augmenting data by flipping\n",
    "X_flipped = np.fliplr(X_train)\n",
    "y_flipped = -y_train\n",
    "\n",
    "X_train = np.concatenate((X_train, X_flipped), axis=0)\n",
    "y_train = np.concatenate((y_train, y_flipped), axis=0)"
   ]
  },
  {
   "cell_type": "code",
   "execution_count": null,
   "metadata": {
    "collapsed": true
   },
   "outputs": [],
   "source": [
    "#shuffling data\n",
    "from sklearn.utils import shuffle\n",
    "\n",
    "X_train, y_train = shuffle(X_train, y_train)\n",
    "X_train, y_train = shuffle(X_train, y_train)\n",
    "X_train, y_train = shuffle(X_train, y_train)\n",
    "X_train, y_train = shuffle(X_train, y_train)\n",
    "X_train, y_train = shuffle(X_train, y_train)"
   ]
  },
  {
   "cell_type": "code",
   "execution_count": null,
   "metadata": {},
   "outputs": [
    {
     "name": "stderr",
     "output_type": "stream",
     "text": [
      "Using TensorFlow backend.\n"
     ]
    }
   ],
   "source": [
    "#Create & define NN model using keras\n",
    "import tensorflow as tf\n",
    "from keras.layers import Activation, Dense, Convolution2D, Dropout, Flatten, MaxPooling2D, Input, Merge, Lambda\n",
    "from keras.models import Model\n",
    "from keras.layers.convolutional import Cropping2D\n",
    "\n",
    "\n",
    "train_generator = generator(archive, train_samples, batch_size=35, augment=True)\n",
    "validation_generator = generator(archive, validation_samples, batch_size=35, augment=True)\n",
    "\n",
    "inp = Input(shape=img_shape)\n",
    "#gray = Lambda(lambda x: (0.21 * x[:,:,:,:1]) + (0.72 * x[:,:,:,1:2]) + (0.07 * x[:,:,:,-1:]))(inp)\n",
    "norm = Lambda(lambda x: np.divide(x - 127.5, 127.5))(inp)\n",
    "crop = Cropping2D(cropping=((50, 20), (0, 0)))(norm)\n",
    "c1 = Convolution2D(3, nb_row=5, nb_col=5, subsample=(1,1), border_mode='same')(crop)\n",
    "c1p = MaxPooling2D(pool_size=(2, 2))(c1)\n",
    "c1a = Activation('relu')(c1p)\n",
    "c2 = Convolution2D(24, nb_row=5, nb_col=5, subsample=(1,1), border_mode='same')(c1)\n",
    "c2p = MaxPooling2D(pool_size=(2, 2))(c2)\n",
    "c2a = Activation('relu')(c2p)\n",
    "c3 = Convolution2D(36, nb_row=5, nb_col=5, subsample=(1,1), border_mode='same')(c2a)\n",
    "c3p = MaxPooling2D(pool_size=(2, 2))(c3)\n",
    "c3a = Activation('relu')(c3p) \n",
    "c4 = Convolution2D(48, nb_row=5, nb_col=5, subsample=(1,1), border_mode='same')(c3a)\n",
    "c4p = MaxPooling2D(pool_size=(2, 2))(c4)\n",
    "c4a = Activation('relu')(c4p)\n",
    "c5 = Convolution2D(64, nb_row=3, nb_col=3, subsample=(1,1), border_mode='same')(c4a)\n",
    "c5p = MaxPooling2D(pool_size=(2, 2))(c5)\n",
    "c5a = Activation('relu')(c5p)\n",
    "c6 = Convolution2D(64, nb_row=3, nb_col=3, subsample=(1,1), border_mode='same')(c5a)\n",
    "c6p = MaxPooling2D(pool_size=(2, 2))(c6)\n",
    "c6a = Activation('relu')(c6p) \n",
    "#c7 = Convolution2D(64, nb_row=3, nb_col=3, subsample=(1,1), border_mode='same')(c6a)\n",
    "#c7p = MaxPooling2D(pool_size=(2, 2))(c7)\n",
    "#c7a = Activation('relu')(c7p) \n",
    "\n",
    "#flatc2 = Flatten()(c2a)\n",
    "#flatc3 = Flatten()(c3a)\n",
    "flatc5 = Flatten()(c5a)\n",
    "flatc6 = Flatten()(c6a)\n",
    "#flatc7 = Flatten()(c7a)\n",
    "flat = Merge(mode='concat')([flatc5, flatc6])\n",
    "\n",
    "f1 = Dense(1064)(flat)\n",
    "f1a = Activation('relu')(f1)\n",
    "f1d = Dropout(0.5)(f1a)\n",
    "f2 = Dense(100)(f1d)\n",
    "f2a = Activation('relu')(f2)\n",
    "f2d = Dropout(0.5)(f2a)\n",
    "f3 = Dense(50)(f2d)\n",
    "f3a = Activation('relu')(f3)\n",
    "f3d = Dropout(0.5)(f3a)\n",
    "out = Dense(1)(f3d)\n",
    "         \n",
    "model = Model(inp, out)\n"
   ]
  },
  {
   "cell_type": "code",
   "execution_count": null,
   "metadata": {
    "collapsed": true
   },
   "outputs": [],
   "source": [
    "#Create & define NN model using keras - Sequential approach\n",
    "'''\n",
    "import tensorflow as tf\n",
    "from keras.layers import Activation, Dense, Convolution2D, Dropout, Flatten, MaxPooling2D, Input, Merge, Lambda\n",
    "from keras.models import Sequential\n",
    "\n",
    "model = Sequential()\n",
    "#model.add(Lambda(lambda x: (0.21 * x[:,:,:,:1]) + (0.72 * x[:,:,:,1:2]) + (0.07 * x[:,:,:,-1:])))\n",
    "model.add(Lambda(lambda x: np.divide(x - 128, 128), input_shape=img_shape))\n",
    "model.add(Convolution2D(16, nb_row=3, nb_col=3, subsample=(2,2)))\n",
    "model.add(MaxPooling2D(pool_size=(2, 2)))\n",
    "model.add(Activation('relu'))\n",
    "model.add(Convolution2D(32, nb_row=3, nb_col=3, subsample=(2,2)))\n",
    "model.add(MaxPooling2D(pool_size=(2, 2)))\n",
    "model.add(Activation('relu'))\n",
    "model.add(Flatten())\n",
    "model.add(Dense(1000))\n",
    "model.add(Activation('relu'))\n",
    "model.add(Dropout(0.5))\n",
    "model.add(Dense(100))\n",
    "model.add(Activation('relu'))\n",
    "model.add(Dropout(0.5))\n",
    "model.add(Dense(1))\n",
    "'''\n"
   ]
  },
  {
   "cell_type": "code",
   "execution_count": null,
   "metadata": {
    "collapsed": true
   },
   "outputs": [],
   "source": [
    "print(train_generator)\n"
   ]
  },
  {
   "cell_type": "code",
   "execution_count": null,
   "metadata": {
    "collapsed": true
   },
   "outputs": [],
   "source": [
    "#train NN model\n",
    "\n",
    "model.compile(loss='mse', optimizer='adam', metrics=['accuracy'])\n",
    "\n",
    "model.fit(train_generator, validation_generator, nb_epoch=10, batch_size=128, validation_split=0.2, shuffle=True)"
   ]
  },
  {
   "cell_type": "code",
   "execution_count": null,
   "metadata": {
    "scrolled": true
   },
   "outputs": [
    {
     "name": "stdout",
     "output_type": "stream",
     "text": [
      "Epoch 1/7\n",
      "43452/43467 [============================>.] - ETA: 0s - loss: 0.1465"
     ]
    },
    {
     "name": "stderr",
     "output_type": "stream",
     "text": [
      "/home/carnd/anaconda3/envs/carnd-term1/lib/python3.5/site-packages/keras/engine/training.py:1569: UserWarning: Epoch comprised more than `samples_per_epoch` samples, which might affect learning results. Set `samples_per_epoch` correctly to avoid this warning.\n",
      "  warnings.warn('Epoch comprised more than '\n"
     ]
    },
    {
     "name": "stdout",
     "output_type": "stream",
     "text": [
      "43488/43467 [==============================] - 523s - loss: 0.1465 - val_loss: 0.1024\n",
      "Epoch 2/7\n",
      "43488/43467 [==============================] - 509s - loss: 0.1049 - val_loss: 0.0765\n",
      "Epoch 3/7\n",
      "43488/43467 [==============================] - 496s - loss: 0.0913 - val_loss: 0.0704\n",
      "Epoch 4/7\n",
      "43488/43467 [==============================] - 502s - loss: 0.0842 - val_loss: 0.0606\n",
      "Epoch 5/7\n",
      "43488/43467 [==============================] - 505s - loss: 0.0738 - val_loss: 0.0573\n",
      "Epoch 6/7\n",
      "43488/43467 [==============================] - 501s - loss: 0.0710 - val_loss: 0.0523\n",
      "Epoch 7/7\n",
      "43488/43467 [==============================] - 503s - loss: 0.0634 - val_loss: 0.0455\n"
     ]
    },
    {
     "data": {
      "text/plain": [
       "<keras.callbacks.History at 0x7fdceabccf98>"
      ]
     },
     "execution_count": 9,
     "metadata": {},
     "output_type": "execute_result"
    }
   ],
   "source": [
    "#train the NN generator model\n",
    "\n",
    "model.compile(loss='mse', optimizer='adam')\n",
    "\n",
    "model.fit_generator(train_generator, samples_per_epoch= len(train_samples), validation_data=validation_generator, nb_val_samples=len(validation_samples), nb_epoch=7)\n"
   ]
  },
  {
   "cell_type": "code",
   "execution_count": null,
   "metadata": {
    "collapsed": true
   },
   "outputs": [],
   "source": [
    "#saving the model for future use\n",
    "model.save('modelfinal5.h5')"
   ]
  },
  {
   "cell_type": "code",
   "execution_count": null,
   "metadata": {
    "collapsed": true
   },
   "outputs": [],
   "source": [
    "print('what')"
   ]
  },
  {
   "cell_type": "code",
   "execution_count": null,
   "metadata": {
    "collapsed": true
   },
   "outputs": [],
   "source": []
  }
 ],
 "metadata": {
  "kernelspec": {
   "display_name": "Python 3",
   "language": "python",
   "name": "python3"
  },
  "language_info": {
   "codemirror_mode": {
    "name": "ipython",
    "version": 3
   },
   "file_extension": ".py",
   "mimetype": "text/x-python",
   "name": "python",
   "nbconvert_exporter": "python",
   "pygments_lexer": "ipython3",
   "version": "3.5.2"
  },
  "widgets": {
   "state": {},
   "version": "1.1.2"
  }
 },
 "nbformat": 4,
 "nbformat_minor": 2
}
